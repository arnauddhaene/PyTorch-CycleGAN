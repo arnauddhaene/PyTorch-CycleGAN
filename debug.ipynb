{
 "cells": [
  {
   "cell_type": "code",
   "execution_count": 1,
   "metadata": {},
   "outputs": [],
   "source": [
    "import os, sys\n",
    "sys.path.append(os.path.abspath('..'))\n",
    "\n",
    "from dataset import ImageDataset"
   ]
  },
  {
   "cell_type": "code",
   "execution_count": null,
   "metadata": {},
   "outputs": [],
   "source": [
    "ImageDataset('../tagseg/data/05_model_input/taggedmr-dmd')"
   ]
  }
 ],
 "metadata": {
  "interpreter": {
   "hash": "0ad42e69c0d21e96d3d26e0b34570ca4969313104102badd5550b873ed7930ce"
  },
  "kernelspec": {
   "display_name": "Python 3.8.12 ('tagroi')",
   "language": "python",
   "name": "python3"
  },
  "language_info": {
   "codemirror_mode": {
    "name": "ipython",
    "version": 3
   },
   "file_extension": ".py",
   "mimetype": "text/x-python",
   "name": "python",
   "nbconvert_exporter": "python",
   "pygments_lexer": "ipython3",
   "version": "3.8.12"
  },
  "orig_nbformat": 4
 },
 "nbformat": 4,
 "nbformat_minor": 2
}
